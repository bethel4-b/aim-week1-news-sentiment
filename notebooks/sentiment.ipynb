{
 "cells": [
  {
   "cell_type": "code",
   "execution_count": 4,
   "id": "5a0e82ef-e159-4e5d-829f-f4abf6ef0e55",
   "metadata": {},
   "outputs": [],
   "source": [
    "\n",
    "import pandas as pd\n",
    "import matplotlib.pyplot as plt\n",
    "import seaborn as sns\n",
    "import re\n",
    "from collections import Counter\n",
    "import yfinance as yf\n",
    "import talib\n",
    "import os\n"
   ]
  },
  {
   "cell_type": "markdown",
   "id": "54de06c0-9f8f-443c-8c90-5faefc40ac8e",
   "metadata": {},
   "source": [
    "##### Load raw news data (update path if necessary)"
   ]
  },
  {
   "cell_type": "code",
   "execution_count": 7,
   "id": "203eb437-88ff-4984-8983-b4134c297341",
   "metadata": {},
   "outputs": [],
   "source": [
    "df_news = pd.read_csv('../data/raw_analyst_ratings.csv')"
   ]
  },
  {
   "cell_type": "markdown",
   "id": "87089dd7-16dc-4f27-9182-3e2dadd7e92f",
   "metadata": {},
   "source": [
    "##### Descriptive statistics: headline length"
   ]
  },
  {
   "cell_type": "code",
   "execution_count": 8,
   "id": "8894bc33-b7ca-4b05-aae7-f3a34089e4e1",
   "metadata": {},
   "outputs": [
    {
     "name": "stdout",
     "output_type": "stream",
     "text": [
      "count    1.407328e+06\n",
      "mean     7.312051e+01\n",
      "std      4.073531e+01\n",
      "min      3.000000e+00\n",
      "25%      4.700000e+01\n",
      "50%      6.400000e+01\n",
      "75%      8.700000e+01\n",
      "max      5.120000e+02\n",
      "Name: headline_length, dtype: float64\n"
     ]
    }
   ],
   "source": [
    "df_news['headline_length'] = df_news['headline'].apply(len)\n",
    "print(df_news['headline_length'].describe())"
   ]
  },
  {
   "cell_type": "code",
   "execution_count": 10,
   "id": "2841c87f-e852-4d4b-9c9b-a900a7789a0e",
   "metadata": {},
   "outputs": [],
   "source": [
    "def extract_publisher(text):\n",
    "    match = re.match(r\"^([A-Za-z\\s&]+)\\s(Maintains|Downgrades|Initiates|Upgrades|Reports)\", str(text))\n",
    "    if match:\n",
    "        return match.group(1).strip()\n",
    "    elif \"shares are trading\" in str(text):\n",
    "        return \"Market Commentary\"\n",
    "    elif \"Stocks That Hit\" in str(text):\n",
    "        return \"Stock Summary\"\n",
    "    elif \"Pershing Square\" in str(text):\n",
    "        return \"Pershing Square\"\n",
    "    elif \"FDA\" in str(text) or \"approval\" in str(text).lower():\n",
    "        return \"FDA/Health News\"\n",
    "    else:\n",
    "        return \"Other\"\n",
    "\n",
    "df_news['publisher'] = df_news['headline'].apply(extract_publisher)\n"
   ]
  },
  {
   "cell_type": "code",
   "execution_count": null,
   "id": "3b8cc2bf-1e0c-42cb-8112-5d538a7d2a41",
   "metadata": {},
   "outputs": [],
   "source": [
    "publisher_counts = df_news['publisher'].value_counts()\n",
    "publisher_counts.plot(kind='bar', title='Articles per Publisher', figsize=(10, 6))\n",
    "plt.ylabel('Count')\n",
    "plt.tight_layout()\n",
    "plt.show()"
   ]
  },
  {
   "cell_type": "code",
   "execution_count": null,
   "id": "34abc4cb-89d0-4956-9682-fc3e2606ce6a",
   "metadata": {},
   "outputs": [],
   "source": [
    "def clean_text(text):\n",
    "    text = str(text).lower()\n",
    "    text = re.sub(r'[^a-z\\s]', '', text)\n",
    "    stopwords = set(['the', 'to', 'of', 'and', 'on', 'in', 'for', 'as', 'with', 'a', 'are', 'is', 'that', 'has'])\n",
    "    return [word for word in text.split() if word not in stopwords and len(word) > 2]\n",
    "\n",
    "df_news['tokens'] = df_news['headline'].apply(clean_text)\n",
    "all_tokens = [token for tokens in df_news['tokens'] for token in tokens]\n",
    "word_freq = Counter(all_tokens)\n",
    "\n",
    "# Top keywords bar chart\n",
    "top_keywords = dict(word_freq.most_common(20))\n",
    "plt.figure(figsize=(12, 6))\n",
    "sns.barplot(x=list(top_keywords.values()), y=list(top_keywords.keys()))\n",
    "plt.title('Top 20 Keywords in Headlines')\n",
    "plt.xlabel('Frequency')\n",
    "plt.ylabel('Keyword')\n",
    "plt.tight_layout()\n",
    "plt.show()"
   ]
  },
  {
   "cell_type": "code",
   "execution_count": null,
   "id": "ea3a22a8-1051-4e25-9745-cb23348437d0",
   "metadata": {},
   "outputs": [],
   "source": []
  }
 ],
 "metadata": {
  "kernelspec": {
   "display_name": "Python 3 (ipykernel)",
   "language": "python",
   "name": "python3"
  },
  "language_info": {
   "codemirror_mode": {
    "name": "ipython",
    "version": 3
   },
   "file_extension": ".py",
   "mimetype": "text/x-python",
   "name": "python",
   "nbconvert_exporter": "python",
   "pygments_lexer": "ipython3",
   "version": "3.10.12"
  }
 },
 "nbformat": 4,
 "nbformat_minor": 5
}
